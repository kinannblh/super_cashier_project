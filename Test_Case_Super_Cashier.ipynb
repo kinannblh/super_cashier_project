{
  "nbformat": 4,
  "nbformat_minor": 0,
  "metadata": {
    "colab": {
      "provenance": []
    },
    "kernelspec": {
      "name": "python3",
      "display_name": "Python 3"
    },
    "language_info": {
      "name": "python"
    }
  },
  "cells": [
    {
      "cell_type": "markdown",
      "source": [
        "# Test Case Module Cashier"
      ],
      "metadata": {
        "id": "gjYifgxXk1kK"
      }
    },
    {
      "cell_type": "code",
      "execution_count": 1,
      "metadata": {
        "id": "dZ4EXnGHkeW5"
      },
      "outputs": [],
      "source": [
        "import cashier as c"
      ]
    },
    {
      "cell_type": "markdown",
      "source": [
        "## Test Case 1: Menambahkan Item"
      ],
      "metadata": {
        "id": "RAdiGjUFk-2D"
      }
    },
    {
      "cell_type": "markdown",
      "source": [
        "##### Jika input tipe data dan nilai data sudah sesuai"
      ],
      "metadata": {
        "id": "-MBT5XKbPgnC"
      }
    },
    {
      "cell_type": "code",
      "source": [
        "trnsct_123 = c.Transaction()\n",
        "\n",
        "trnsct_123.add_item(\"Ayam Goreng\", 2, 20_000)\n",
        "trnsct_123.add_item(\"Pasta Gigi\", 3, 15_000)"
      ],
      "metadata": {
        "colab": {
          "base_uri": "https://localhost:8080/"
        },
        "id": "nLyf3BrVkpVb",
        "outputId": "04198296-a6fc-44d1-9206-19e6b1fa0907"
      },
      "execution_count": 2,
      "outputs": [
        {
          "output_type": "stream",
          "name": "stdout",
          "text": [
            "Item Ayam Goreng sejumlah 2 seharga Rp20000 per item berhasil ditambahkan.\n",
            "Item Pasta Gigi sejumlah 3 seharga Rp15000 per item berhasil ditambahkan.\n"
          ]
        }
      ]
    },
    {
      "cell_type": "markdown",
      "source": [
        "##### Jika terdapat kesalahan input tipe data"
      ],
      "metadata": {
        "id": "vfHEIpv0PXIi"
      }
    },
    {
      "cell_type": "code",
      "source": [
        "trnsct_123.add_item(\"Sabun\", \"3\", 15_000)"
      ],
      "metadata": {
        "colab": {
          "base_uri": "https://localhost:8080/"
        },
        "id": "Lz2gfoJ2MMsE",
        "outputId": "79af415e-670c-4569-9870-b320a2b7f3b1"
      },
      "execution_count": 3,
      "outputs": [
        {
          "output_type": "stream",
          "name": "stdout",
          "text": [
            "Tidak dapat menambahkan item Sabun. Jumlah item harus berupa angka.\n"
          ]
        }
      ]
    },
    {
      "cell_type": "markdown",
      "source": [
        "##### Jika terdapat kesalahan input nilai data (nilai negatif)"
      ],
      "metadata": {
        "id": "DdNkwmMSPnEV"
      }
    },
    {
      "cell_type": "code",
      "source": [
        "trnsct_123.add_item(\"Sabun\", 3, -15_000)"
      ],
      "metadata": {
        "colab": {
          "base_uri": "https://localhost:8080/"
        },
        "id": "MyqFl6S6PmQU",
        "outputId": "e35a9f99-f36b-4903-cd95-af137a9601bb"
      },
      "execution_count": 4,
      "outputs": [
        {
          "output_type": "stream",
          "name": "stdout",
          "text": [
            "Tidak dapat menambahkan item Sabun. Harga item harus bernilai positif.\n"
          ]
        }
      ]
    },
    {
      "cell_type": "markdown",
      "source": [
        "## Test Case 2: Menghapus Item"
      ],
      "metadata": {
        "id": "dHmbuENVlY1c"
      }
    },
    {
      "cell_type": "markdown",
      "source": [
        "##### Jika nama item ada dalam daftar pesanan"
      ],
      "metadata": {
        "id": "9j3KTIP5bFiu"
      }
    },
    {
      "cell_type": "code",
      "source": [
        "trnsct_123.delete_item(\"Pasta Gigi\")"
      ],
      "metadata": {
        "colab": {
          "base_uri": "https://localhost:8080/"
        },
        "id": "GesOnkSskrN-",
        "outputId": "025aee82-2314-4db1-ba2b-d5296242af2f"
      },
      "execution_count": 5,
      "outputs": [
        {
          "output_type": "stream",
          "name": "stdout",
          "text": [
            "Pasta Gigi berhasil dihapus dari daftar pesanan.\n",
            " \n",
            "Berikut adalah daftar pesanan Anda:\n",
            " \n",
            "Item           Jumlah Item    Harga per item    Total Harga\n",
            "-----------  -------------  ----------------  -------------\n",
            "Ayam Goreng              2             20000          40000\n"
          ]
        }
      ]
    },
    {
      "cell_type": "markdown",
      "source": [
        "##### Jika nama item tidak ada dalam daftar pesanan"
      ],
      "metadata": {
        "id": "K5c9UjQYbKXV"
      }
    },
    {
      "cell_type": "code",
      "source": [
        "trnsct_123.delete_item(\"Susu\")"
      ],
      "metadata": {
        "colab": {
          "base_uri": "https://localhost:8080/"
        },
        "id": "SOAwDoKebN1C",
        "outputId": "1ecd7ee6-3fba-422d-fdf8-a2f1f4db0d55"
      },
      "execution_count": 6,
      "outputs": [
        {
          "output_type": "stream",
          "name": "stdout",
          "text": [
            "Susu tidak terdapat dalam daftar pesanan.\n"
          ]
        }
      ]
    },
    {
      "cell_type": "markdown",
      "source": [
        "## Test Case 3: Mereset Transaksi"
      ],
      "metadata": {
        "id": "3PL1_bPNlkLo"
      }
    },
    {
      "cell_type": "code",
      "source": [
        "trnsct_123.reset_transaction()"
      ],
      "metadata": {
        "colab": {
          "base_uri": "https://localhost:8080/"
        },
        "id": "l_pVQJgDkter",
        "outputId": "03804223-e471-467f-f634-11f4031148e6"
      },
      "execution_count": 7,
      "outputs": [
        {
          "output_type": "stream",
          "name": "stdout",
          "text": [
            "Daftar pesanan berhasil dikosongkan.\n"
          ]
        }
      ]
    },
    {
      "cell_type": "markdown",
      "source": [
        "## Test Case 4: Menghitung Total Belanja dan Diskon"
      ],
      "metadata": {
        "id": "4khtVG2wlxFs"
      }
    },
    {
      "cell_type": "markdown",
      "source": [
        "##### Jika tidak terdapat item dalam daftar pesanan/daftar pesanan kosong"
      ],
      "metadata": {
        "id": "fUydwnEFOGV7"
      }
    },
    {
      "cell_type": "code",
      "source": [
        "trnsct_123.total_price()"
      ],
      "metadata": {
        "colab": {
          "base_uri": "https://localhost:8080/"
        },
        "id": "UGhcW8pRkvNX",
        "outputId": "3b93a07b-a8be-4c29-fec1-c5da4aaeea9d"
      },
      "execution_count": 8,
      "outputs": [
        {
          "output_type": "stream",
          "name": "stdout",
          "text": [
            "Anda belum memasukkan item ke daftar pesanan.\n",
            " \n",
            "Total belanja Anda sebesar Rp0.\n"
          ]
        }
      ]
    },
    {
      "cell_type": "markdown",
      "source": [
        "##### Jika belum memenuhi persyaratan minimal belanja"
      ],
      "metadata": {
        "id": "qYrSEJ18ONGn"
      }
    },
    {
      "cell_type": "code",
      "source": [
        "trnsct_123.add_item(\"Ayam Goreng\", 2, 20_000)\n",
        "trnsct_123.add_item(\"Pasta Gigi\", 3, 15_000)"
      ],
      "metadata": {
        "colab": {
          "base_uri": "https://localhost:8080/"
        },
        "id": "QI09aFo3l618",
        "outputId": "569b83bc-b82f-44ee-f7bc-2651eceb1de7"
      },
      "execution_count": 9,
      "outputs": [
        {
          "output_type": "stream",
          "name": "stdout",
          "text": [
            "Item Ayam Goreng sejumlah 2 seharga Rp20000 per item berhasil ditambahkan.\n",
            "Item Pasta Gigi sejumlah 3 seharga Rp15000 per item berhasil ditambahkan.\n"
          ]
        }
      ]
    },
    {
      "cell_type": "code",
      "source": [
        "trnsct_123.total_price()"
      ],
      "metadata": {
        "colab": {
          "base_uri": "https://localhost:8080/"
        },
        "id": "PWB5l-gfmApG",
        "outputId": "59fc681e-9e96-4556-a05d-426548d377e0"
      },
      "execution_count": 10,
      "outputs": [
        {
          "output_type": "stream",
          "name": "stdout",
          "text": [
            "Item           Jumlah Item    Harga per item    Total Harga\n",
            "-----------  -------------  ----------------  -------------\n",
            "Ayam Goreng              2             20000          40000\n",
            "Pasta Gigi               3             15000          45000\n",
            " \n",
            "Total belanja Anda sebesar Rp85000.\n"
          ]
        }
      ]
    },
    {
      "cell_type": "markdown",
      "source": [
        "##### Jika telah memenuhi persyaratan minimal belanja"
      ],
      "metadata": {
        "id": "TCo8pH-qOjG9"
      }
    },
    {
      "cell_type": "code",
      "source": [
        "trnsct_123.add_item(\"Ayam Goreng\", 2, 20_000)\n",
        "trnsct_123.add_item(\"Pasta Gigi\", 3, 15_000)\n",
        "trnsct_123.add_item(\"Kopi\", 5, 45_000)"
      ],
      "metadata": {
        "colab": {
          "base_uri": "https://localhost:8080/"
        },
        "id": "HShCjeJ3mHWb",
        "outputId": "64b6a5f2-5750-481e-833c-81080686f4e1"
      },
      "execution_count": 11,
      "outputs": [
        {
          "output_type": "stream",
          "name": "stdout",
          "text": [
            "Item Ayam Goreng sejumlah 2 seharga Rp20000 per item berhasil ditambahkan.\n",
            "Item Pasta Gigi sejumlah 3 seharga Rp15000 per item berhasil ditambahkan.\n",
            "Item Kopi sejumlah 5 seharga Rp45000 per item berhasil ditambahkan.\n"
          ]
        }
      ]
    },
    {
      "cell_type": "code",
      "source": [
        "trnsct_123.total_price()"
      ],
      "metadata": {
        "colab": {
          "base_uri": "https://localhost:8080/"
        },
        "id": "nYPfgqLUmSUz",
        "outputId": "b11a5e88-19ca-479d-d6bc-10cdcb6648bf"
      },
      "execution_count": 12,
      "outputs": [
        {
          "output_type": "stream",
          "name": "stdout",
          "text": [
            "Item           Jumlah Item    Harga per item    Total Harga\n",
            "-----------  -------------  ----------------  -------------\n",
            "Ayam Goreng              2             20000          40000\n",
            "Pasta Gigi               3             15000          45000\n",
            "Kopi                     5             45000         225000\n",
            " \n",
            "Total belanja Anda sebesar Rp310000.\n",
            "Anda mendapatkan diskon sebesar 8.0 %.\n",
            "Anda hanya perlu membayar sebesar Rp285200.0.\n"
          ]
        }
      ]
    },
    {
      "cell_type": "markdown",
      "source": [
        "## Test Case 5: Mengubah Nama Item"
      ],
      "metadata": {
        "id": "3kU-fbJQmXJH"
      }
    },
    {
      "cell_type": "code",
      "source": [
        "trnsct_123.update_item_name(\"Pasta Gigi\", \"Sikat Gigi\")"
      ],
      "metadata": {
        "colab": {
          "base_uri": "https://localhost:8080/"
        },
        "id": "XW19Y51Kmkid",
        "outputId": "dcf23594-5cdf-4658-9bde-7ab602ade9b2"
      },
      "execution_count": 13,
      "outputs": [
        {
          "output_type": "stream",
          "name": "stdout",
          "text": [
            "Item Pasta Gigi berhasil diubah menjadi Sikat Gigi.\n",
            " \n",
            "Berikut adalah daftar pesanan Anda:\n",
            " \n",
            "Item           Jumlah Item    Harga per item    Total Harga\n",
            "-----------  -------------  ----------------  -------------\n",
            "Ayam Goreng              2             20000          40000\n",
            "Kopi                     5             45000         225000\n",
            "Sikat Gigi               3             15000          45000\n"
          ]
        }
      ]
    },
    {
      "cell_type": "markdown",
      "source": [
        "## Test Case 6: Mengubah Jumlah Item"
      ],
      "metadata": {
        "id": "BXxhIEgNLcNd"
      }
    },
    {
      "cell_type": "markdown",
      "source": [
        "##### Jika terdapat kesalahan input tipe data"
      ],
      "metadata": {
        "id": "XOlT3RXPM1cr"
      }
    },
    {
      "cell_type": "code",
      "source": [
        "trnsct_123.update_item_qty(\"Kopi\", \"6\")"
      ],
      "metadata": {
        "colab": {
          "base_uri": "https://localhost:8080/"
        },
        "id": "LlMgD3m0YGL2",
        "outputId": "4e110cb2-e44b-443d-af42-40675ed91626"
      },
      "execution_count": 14,
      "outputs": [
        {
          "output_type": "stream",
          "name": "stdout",
          "text": [
            "Tidak dapat mengubah jumlah item Kopi. Jumlah item harus berupa angka.\n"
          ]
        }
      ]
    },
    {
      "cell_type": "markdown",
      "source": [
        "##### Jika terdapat kesalahan input nilai data (nilai negatif)"
      ],
      "metadata": {
        "id": "b9i0tKBgYU0Z"
      }
    },
    {
      "cell_type": "code",
      "source": [
        "trnsct_123.update_item_qty(\"Kopi\", -6)"
      ],
      "metadata": {
        "id": "q_xxDP5lm1Ku",
        "colab": {
          "base_uri": "https://localhost:8080/"
        },
        "outputId": "876405da-fa84-4aa2-a7eb-295d7012a7d2"
      },
      "execution_count": 15,
      "outputs": [
        {
          "output_type": "stream",
          "name": "stdout",
          "text": [
            "Tidak dapat mengubah jumlah item Kopi. Jumlah item harus bernilai positif.\n"
          ]
        }
      ]
    },
    {
      "cell_type": "markdown",
      "source": [
        "##### Jika input tipe data dan nilai data sudah sesuai"
      ],
      "metadata": {
        "id": "__i4nC3MM9Hx"
      }
    },
    {
      "cell_type": "code",
      "source": [
        "trnsct_123.update_item_qty(\"Kopi\", 6)"
      ],
      "metadata": {
        "colab": {
          "base_uri": "https://localhost:8080/"
        },
        "id": "M1JW3CXeMrTe",
        "outputId": "82867c2a-5f0e-47e5-cd48-1411e13a62b9"
      },
      "execution_count": 16,
      "outputs": [
        {
          "output_type": "stream",
          "name": "stdout",
          "text": [
            "Jumlah item Kopi berhasil diubah menjadi 6 item.\n",
            " \n",
            "Berikut adalah daftar pesanan Anda:\n",
            " \n",
            "Item           Jumlah Item    Harga per item    Total Harga\n",
            "-----------  -------------  ----------------  -------------\n",
            "Ayam Goreng              2             20000          40000\n",
            "Kopi                     6             45000         270000\n",
            "Sikat Gigi               3             15000          45000\n"
          ]
        }
      ]
    },
    {
      "cell_type": "markdown",
      "source": [
        "## Test Case 7: Mengubah harga item"
      ],
      "metadata": {
        "id": "TKoiTbpeMwIO"
      }
    },
    {
      "cell_type": "markdown",
      "source": [
        "##### Jika terdapat kesalahan input tipe data"
      ],
      "metadata": {
        "id": "P-LP6mZMNEhq"
      }
    },
    {
      "cell_type": "code",
      "source": [
        "trnsct_123.update_item_price(\"Kopi\", \"40000\")"
      ],
      "metadata": {
        "colab": {
          "base_uri": "https://localhost:8080/"
        },
        "id": "hDVoE_VzNWOT",
        "outputId": "73ead1d8-57bf-4a79-d176-6c0256f4e0ba"
      },
      "execution_count": 17,
      "outputs": [
        {
          "output_type": "stream",
          "name": "stdout",
          "text": [
            "Tidak dapat mengubah harga item Kopi. Harga item harus berupa angka.\n"
          ]
        }
      ]
    },
    {
      "cell_type": "markdown",
      "source": [
        "##### Jika terdapat kesalahan input nilai data (nilai negatif)"
      ],
      "metadata": {
        "id": "sxTD8Rx0Y6RK"
      }
    },
    {
      "cell_type": "code",
      "source": [
        "trnsct_123.update_item_price(\"Kopi\", -40000)"
      ],
      "metadata": {
        "colab": {
          "base_uri": "https://localhost:8080/"
        },
        "id": "aoRjuanJY6qG",
        "outputId": "0264cf54-52c8-437c-b033-7dc5242ce654"
      },
      "execution_count": 18,
      "outputs": [
        {
          "output_type": "stream",
          "name": "stdout",
          "text": [
            "Tidak dapat mengubah harga item Kopi. Harga item harus bernilai positif.\n"
          ]
        }
      ]
    },
    {
      "cell_type": "markdown",
      "source": [
        "##### Jika input tipe data dan nilai data sudah sesuai"
      ],
      "metadata": {
        "id": "O6pBhGAuPCTU"
      }
    },
    {
      "cell_type": "code",
      "source": [
        "trnsct_123.update_item_price(\"Kopi\", 40000)"
      ],
      "metadata": {
        "colab": {
          "base_uri": "https://localhost:8080/"
        },
        "id": "MFLowqmMN_v6",
        "outputId": "f33cbd37-fae8-4bc0-e606-8610fc7718b5"
      },
      "execution_count": 19,
      "outputs": [
        {
          "output_type": "stream",
          "name": "stdout",
          "text": [
            "Harga item Kopi berhasil diubah menjadi Rp40000\n",
            " \n",
            "Berikut adalah daftar pesanan Anda:\n",
            " \n",
            "Item           Jumlah Item    Harga per item    Total Harga\n",
            "-----------  -------------  ----------------  -------------\n",
            "Ayam Goreng              2             20000          40000\n",
            "Kopi                     6             40000         270000\n",
            "Sikat Gigi               3             15000          45000\n"
          ]
        }
      ]
    },
    {
      "cell_type": "markdown",
      "source": [
        "# Test Case 8: Check Order"
      ],
      "metadata": {
        "id": "kJhuMLKbQeVx"
      }
    },
    {
      "cell_type": "markdown",
      "source": [
        "##### Jika terdapat item dalam daftar pesanan dan tipe data sudah sesuai"
      ],
      "metadata": {
        "id": "6MuXgosFQhcp"
      }
    },
    {
      "cell_type": "code",
      "source": [
        "trnsct_123.check_order()"
      ],
      "metadata": {
        "colab": {
          "base_uri": "https://localhost:8080/"
        },
        "id": "y8cvqiNCQhnH",
        "outputId": "eaa8f0b8-3332-4191-9d83-453eb8045c84"
      },
      "execution_count": 20,
      "outputs": [
        {
          "output_type": "stream",
          "name": "stdout",
          "text": [
            "Berikut adalah daftar pesanan Anda:\n",
            " \n",
            "Item           Jumlah Item    Harga per item    Total Harga\n",
            "-----------  -------------  ----------------  -------------\n",
            "Ayam Goreng              2             20000          40000\n",
            "Kopi                     6             40000         270000\n",
            "Sikat Gigi               3             15000          45000\n"
          ]
        }
      ]
    },
    {
      "cell_type": "markdown",
      "source": [
        "##### Jika tidak terdapat item dalam daftar pesanan/daftar pesanan kosong"
      ],
      "metadata": {
        "id": "YosrZfPXQ1Dy"
      }
    },
    {
      "cell_type": "code",
      "source": [
        "trnsct_123.reset_transaction()"
      ],
      "metadata": {
        "colab": {
          "base_uri": "https://localhost:8080/"
        },
        "id": "u7r98mkZQ5Wh",
        "outputId": "2758b178-5084-4a9f-955f-f573320c17fb"
      },
      "execution_count": 21,
      "outputs": [
        {
          "output_type": "stream",
          "name": "stdout",
          "text": [
            "Daftar pesanan berhasil dikosongkan.\n"
          ]
        }
      ]
    },
    {
      "cell_type": "code",
      "source": [
        "trnsct_123.check_order()"
      ],
      "metadata": {
        "colab": {
          "base_uri": "https://localhost:8080/"
        },
        "id": "ZfniHiaJQ5jG",
        "outputId": "a4d33f50-3f70-4a58-f0a6-802581fd3245"
      },
      "execution_count": 22,
      "outputs": [
        {
          "output_type": "stream",
          "name": "stdout",
          "text": [
            "Anda belum memasukkan item ke daftar pesanan.\n",
            " \n"
          ]
        }
      ]
    }
  ]
}